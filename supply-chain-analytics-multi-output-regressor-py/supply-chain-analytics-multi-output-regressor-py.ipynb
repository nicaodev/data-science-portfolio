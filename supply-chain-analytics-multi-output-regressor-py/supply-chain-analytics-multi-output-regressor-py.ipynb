{
 "cells": [
  {
   "cell_type": "markdown",
   "metadata": {},
   "source": [
    "Imagine que uma empresa deseje prever quantas unidades de um produto serão\n",
    "vendidas e qual o total monetário das vendas prevendo duas variáveis de saída com base nas mesmas variáveis de entrada."
   ]
  },
  {
   "cell_type": "markdown",
   "metadata": {},
   "source": [
    "https://scikit-learn.org/stable/modules/generated/sklearn.multioutput.MultiOutputRegressor.html"
   ]
  },
  {
   "cell_type": "code",
   "execution_count": 1,
   "metadata": {},
   "outputs": [],
   "source": [
    "import numpy as np\n",
    "import pandas as pd\n",
    "import matplotlib.pyplot as plt\n",
    "from sklearn.ensemble import RandomForestRegressor\n",
    "from sklearn.model_selection import train_test_split\n",
    "from sklearn.multioutput import MultiOutputRegressor\n",
    "from sklearn import metrics \n",
    "from sklearn.metrics import accuracy_score"
   ]
  },
  {
   "cell_type": "code",
   "execution_count": 2,
   "metadata": {},
   "outputs": [],
   "source": [
    "dados = pd.read_csv(r\"dados/dataset.csv\")"
   ]
  },
  {
   "cell_type": "code",
   "execution_count": 3,
   "metadata": {},
   "outputs": [
    {
     "data": {
      "text/html": [
       "<div>\n",
       "<style scoped>\n",
       "    .dataframe tbody tr th:only-of-type {\n",
       "        vertical-align: middle;\n",
       "    }\n",
       "\n",
       "    .dataframe tbody tr th {\n",
       "        vertical-align: top;\n",
       "    }\n",
       "\n",
       "    .dataframe thead th {\n",
       "        text-align: right;\n",
       "    }\n",
       "</style>\n",
       "<table border=\"1\" class=\"dataframe\">\n",
       "  <thead>\n",
       "    <tr style=\"text-align: right;\">\n",
       "      <th></th>\n",
       "      <th>Ano</th>\n",
       "      <th>Periodo</th>\n",
       "      <th>Total_Vendas</th>\n",
       "      <th>Percentual_Aumento_Vendas_Ano_Anterior</th>\n",
       "      <th>Total_Unidades_Vendidas</th>\n",
       "      <th>Percentual_Aumento_Unidades_Ano_Anterior</th>\n",
       "    </tr>\n",
       "  </thead>\n",
       "  <tbody>\n",
       "    <tr>\n",
       "      <th>0</th>\n",
       "      <td>2002</td>\n",
       "      <td>2002-03</td>\n",
       "      <td>19666.640</td>\n",
       "      <td>6.610000</td>\n",
       "      <td>3097</td>\n",
       "      <td>7.570000</td>\n",
       "    </tr>\n",
       "    <tr>\n",
       "      <th>1</th>\n",
       "      <td>2003</td>\n",
       "      <td>2003-04</td>\n",
       "      <td>20384.980</td>\n",
       "      <td>3.652581</td>\n",
       "      <td>3289</td>\n",
       "      <td>6.199548</td>\n",
       "    </tr>\n",
       "    <tr>\n",
       "      <th>2</th>\n",
       "      <td>2004</td>\n",
       "      <td>2004-05</td>\n",
       "      <td>20810.281</td>\n",
       "      <td>2.086345</td>\n",
       "      <td>3490</td>\n",
       "      <td>6.111280</td>\n",
       "    </tr>\n",
       "    <tr>\n",
       "      <th>3</th>\n",
       "      <td>2005</td>\n",
       "      <td>2005-06</td>\n",
       "      <td>21184.427</td>\n",
       "      <td>1.797890</td>\n",
       "      <td>3626</td>\n",
       "      <td>3.896848</td>\n",
       "    </tr>\n",
       "  </tbody>\n",
       "</table>\n",
       "</div>"
      ],
      "text/plain": [
       "    Ano  Periodo  Total_Vendas  Percentual_Aumento_Vendas_Ano_Anterior  \\\n",
       "0  2002  2002-03     19666.640                                6.610000   \n",
       "1  2003  2003-04     20384.980                                3.652581   \n",
       "2  2004  2004-05     20810.281                                2.086345   \n",
       "3  2005  2005-06     21184.427                                1.797890   \n",
       "\n",
       "   Total_Unidades_Vendidas  Percentual_Aumento_Unidades_Ano_Anterior  \n",
       "0                     3097                                  7.570000  \n",
       "1                     3289                                  6.199548  \n",
       "2                     3490                                  6.111280  \n",
       "3                     3626                                  3.896848  "
      ]
     },
     "execution_count": 3,
     "metadata": {},
     "output_type": "execute_result"
    }
   ],
   "source": [
    "dados.head(4)"
   ]
  },
  {
   "cell_type": "code",
   "execution_count": 5,
   "metadata": {},
   "outputs": [
    {
     "data": {
      "image/png": "[encoded data removed]",
      "text/plain": [
       "<Figure size 864x432 with 1 Axes>"
      ]
     },
     "metadata": {
      "needs_background": "light"
     },
     "output_type": "display_data"
    }
   ],
   "source": [
    "# Plota\n",
    "plt.figure(figsize = (12, 6))\n",
    "plt.scatter(dados['Ano'], dados['Total_Vendas'], c = 'blue')\n",
    "plt.ylabel(\"Total Vendas\")\n",
    "plt.xlabel(\"Ano\")\n",
    "plt.show()"
   ]
  },
  {
   "cell_type": "code",
   "execution_count": 6,
   "metadata": {},
   "outputs": [
    {
     "data": {
      "image/png": "[encoded data removed]",
      "text/plain": [
       "<Figure size 864x432 with 1 Axes>"
      ]
     },
     "metadata": {
      "needs_background": "light"
     },
     "output_type": "display_data"
    }
   ],
   "source": [
    "# Plota\n",
    "plt.figure(figsize = (12, 6))\n",
    "plt.scatter(dados['Ano'], dados['Total_Unidades_Vendidas'], c = 'red')\n",
    "plt.ylabel(\"Total Unidades Vendidas\")\n",
    "plt.xlabel(\"Ano\")\n",
    "plt.show()"
   ]
  },
  {
   "cell_type": "code",
   "execution_count": 7,
   "metadata": {},
   "outputs": [],
   "source": [
    "# var preditora\n",
    "X = dados[\"Ano\"].values.reshape(-1,1)"
   ]
  },
  {
   "cell_type": "code",
   "execution_count": 9,
   "metadata": {},
   "outputs": [
    {
     "name": "stdout",
     "output_type": "stream",
     "text": [
      "    Total_Vendas  Total_Unidades_Vendidas\n",
      "0      19666.640                     3097\n",
      "1      20384.980                     3289\n",
      "2      20810.281                     3490\n",
      "3      21184.427                     3626\n",
      "4      21977.311                     3736\n",
      "5      22580.893                     4030\n",
      "6      22313.054                     4034\n",
      "7      24124.309                     4408\n",
      "8      25667.919                     4720\n",
      "9      26617.490                     5028\n",
      "10     27234.865                     5642\n",
      "11     28029.747                     5653\n",
      "12     28963.782                     5925\n",
      "13     29415.865                     5846\n",
      "14     30790.906                     6261\n",
      "15     32009.092                     6526\n",
      "16     33370.630                     6934\n",
      "17     34700.115                     7409\n"
     ]
    }
   ],
   "source": [
    "# 2 var alvo\n",
    "Y = dados.iloc[:, [2,4]]\n",
    "print(Y)"
   ]
  },
  {
   "cell_type": "code",
   "execution_count": 10,
   "metadata": {},
   "outputs": [],
   "source": [
    "# Split\n",
    "X_treino, X_teste, y_treino, y_teste = train_test_split(X, Y, test_size = 0.10, random_state = 4)"
   ]
  },
  {
   "cell_type": "markdown",
   "metadata": {},
   "source": [
    "### Modelo MultiOutput Regressor"
   ]
  },
  {
   "cell_type": "code",
   "execution_count": 11,
   "metadata": {},
   "outputs": [],
   "source": [
    "# Def Hiperparâmetros\n",
    "max_depth = 30\n",
    "num_estimadores = 100"
   ]
  },
  {
   "cell_type": "code",
   "execution_count": 12,
   "metadata": {},
   "outputs": [],
   "source": [
    "modelo_multioutput = MultiOutputRegressor(RandomForestRegressor(n_estimators = num_estimadores,\n",
    "                                                                max_depth = max_depth,\n",
    "                                                                random_state = 42))"
   ]
  },
  {
   "cell_type": "code",
   "execution_count": 13,
   "metadata": {},
   "outputs": [
    {
     "data": {
      "text/plain": [
       "MultiOutputRegressor(estimator=RandomForestRegressor(max_depth=30,\n",
       "                                                     random_state=42))"
      ]
     },
     "execution_count": 13,
     "metadata": {},
     "output_type": "execute_result"
    }
   ],
   "source": [
    "# fit\n",
    "modelo_multioutput.fit(X_treino, y_treino)"
   ]
  },
  {
   "cell_type": "code",
   "execution_count": 14,
   "metadata": {},
   "outputs": [
    {
     "data": {
      "text/plain": [
       "array([[23045.39749,  4130.04   ],\n",
       "       [21132.40174,  3550.66   ]])"
      ]
     },
     "execution_count": 14,
     "metadata": {},
     "output_type": "execute_result"
    }
   ],
   "source": [
    "# previsao do modelo\n",
    "y_pred = modelo_multioutput.predict(X_teste)\n",
    "y_pred"
   ]
  },
  {
   "cell_type": "code",
   "execution_count": 15,
   "metadata": {},
   "outputs": [
    {
     "data": {
      "image/png": "[encoded data removed]",
      "text/plain": [
       "<Figure size 432x288 with 1 Axes>"
      ]
     },
     "metadata": {
      "needs_background": "light"
     },
     "output_type": "display_data"
    }
   ],
   "source": [
    "# Plotando\n",
    "\n",
    "plt.figure()\n",
    "\n",
    "plt.scatter(y_teste.iloc[:, 0].values, \n",
    "            y_teste.iloc[:, 1].values, \n",
    "            edgecolor = 'k', \n",
    "            c = \"yellow\", \n",
    "            s = 50, \n",
    "            marker = \"s\", \n",
    "            alpha = 0.6, \n",
    "            label = \"Dados Reais\")\n",
    "\n",
    "plt.scatter(y_pred[:, 0], \n",
    "            y_pred[:, 1], \n",
    "            edgecolor = 'k',\n",
    "            c = \"red\", \n",
    "            s = 50, \n",
    "            alpha = 0.6,\n",
    "            label = \"Previsões MultiOutput\")\n",
    "\n",
    "plt.xlim([20500, 23400])\n",
    "plt.ylim([3000, 5000])\n",
    "\n",
    "# Labels do gráfico\n",
    "plt.xlabel(\"Total Vendas (R$)\")\n",
    "plt.ylabel(\"Total Unidades Vendidas\")\n",
    "plt.title(\"Previsão de Demanda\")\n",
    "plt.legend()\n",
    "plt.show()"
   ]
  },
  {
   "cell_type": "code",
   "execution_count": 16,
   "metadata": {},
   "outputs": [
    {
     "name": "stdout",
     "output_type": "stream",
     "text": [
      "Mean Absolute Error: 238.9371875000004\n",
      "Mean Squared Error: 138483.35305585555\n",
      "Root Mean Squared Error: 372.13351509351526\n"
     ]
    }
   ],
   "source": [
    "print('Mean Absolute Error:', metrics.mean_absolute_error(y_teste, y_pred))\n",
    "print('Mean Squared Error:', metrics.mean_squared_error(y_teste, y_pred))\n",
    "print('Root Mean Squared Error:', np.sqrt(metrics.mean_squared_error(y_teste, y_pred)))"
   ]
  },
  {
   "cell_type": "code",
   "execution_count": 17,
   "metadata": {},
   "outputs": [
    {
     "name": "stdout",
     "output_type": "stream",
     "text": [
      "\n",
      "X_Teste\n",
      " [[2008]\n",
      " [2005]]\n",
      "\n",
      "Y_teste\n",
      "    Total_Vendas  Total_Unidades_Vendidas\n",
      "6     22313.054                     4034\n",
      "3     21184.427                     3626\n",
      "\n",
      "Y_pred\n",
      " [[23045.39749  4130.04   ]\n",
      " [21132.40174  3550.66   ]]\n"
     ]
    }
   ],
   "source": [
    "print(\"\\nX_Teste\\n\", X_teste)\n",
    "print(\"\\nY_teste\\n\", y_teste)\n",
    "print(\"\\nY_pred\\n\", y_pred)"
   ]
  }
 ],
 "metadata": {
  "kernelspec": {
   "display_name": "Python 3",
   "language": "python",
   "name": "python3"
  },
  "language_info": {
   "codemirror_mode": {
    "name": "ipython",
    "version": 3
   },
   "file_extension": ".py",
   "mimetype": "text/x-python",
   "name": "python",
   "nbconvert_exporter": "python",
   "pygments_lexer": "ipython3",
   "version": "3.7.3"
  }
 },
 "nbformat": 4,
 "nbformat_minor": 4
}
