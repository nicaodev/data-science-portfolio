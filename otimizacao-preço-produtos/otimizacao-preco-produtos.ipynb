{
 "cells": [
  {
   "cell_type": "code",
   "execution_count": null,
   "metadata": {},
   "outputs": [],
   "source": [
    "# Instala o PuLP\n",
    "# https://pypi.org/project/PuLP/\n",
    "# https://coin-or.github.io/pulp/\n",
    "!pip install -q pulp"
   ]
  },
  {
   "cell_type": "code",
   "execution_count": 1,
   "metadata": {},
   "outputs": [],
   "source": [
    "# Imports\n",
    "from pulp import *\n",
    "import warnings\n",
    "warnings.filterwarnings(\"ignore\", category=FutureWarning)"
   ]
  },
  {
   "cell_type": "markdown",
   "metadata": {},
   "source": [
    "### Parâmetros"
   ]
  },
  {
   "cell_type": "markdown",
   "metadata": {},
   "source": [
    "- Ai = Número máximo de smartphones modelo tipo i para vender este mês, onde i pertence ao conjunto {Xiaomi, Iphone}\n",
    "- Bi = Preço de venda de smartphones modelo tipo i, onde i pertence ao conjunto {Xiaomi, Iphone}\n",
    "- Ci = Preço de custo das peças componentes para smartphones modelo tipo i, onde i pertence ao conjunto {Xiaomi, Iphone}\n",
    "- Di = Custo de mão de obra de montagem por hora de smartphones modelo tipo i, onde i pertence ao conjunto {Xiaomi, Iphone}\n",
    "- Ei = Custo de mão de obra de teste por hora de smartphones modelo tipo i, onde i pertence ao conjunto {Xiaomi, Iphone}\n",
    "- F = Número máximo de horas de trabalho de montagem\n",
    "- G = Número máximo de horas de trabalho de teste\n",
    "- Hf,i = Horas de montagem necessárias para construir cada modelo de smartphone tipo i, onde i pertence ao conjunto {Xiaomi, Iphone}\n",
    "- Hg,i = Horas de teste necessárias para testar cada modelo de smartphone tipo i, onde i pertence ao conjunto {Xiaomi, Iphone}"
   ]
  },
  {
   "cell_type": "markdown",
   "metadata": {},
   "source": [
    "### Variável de Decisão"
   ]
  },
  {
   "cell_type": "markdown",
   "metadata": {},
   "source": [
    "- Xi = Número de smartphones modelo tipo i a produzir este mês, onde i pertence ao conjunto {Xiaomi, Iphone}"
   ]
  },
  {
   "cell_type": "markdown",
   "metadata": {},
   "source": [
    "### Função Objetivo"
   ]
  },
  {
   "cell_type": "markdown",
   "metadata": {},
   "source": [
    "![title](imagens/formula.png)"
   ]
  },
  {
   "cell_type": "markdown",
   "metadata": {},
   "source": [
    "### Restrições"
   ]
  },
  {
   "cell_type": "markdown",
   "metadata": {},
   "source": [
    "- O número de smartphones modelo tipo i a serem produzidos não pode ser negativo, ou seja, Xi >= 0, onde i pertence ao conjunto {Xiaomi, Iphone}.\n",
    "\n",
    "\n",
    "- O número total de horas de montagem não pode ser maior que o número máximo de horas de mão de obra de montagem disponíveis.\n",
    "\n",
    "\n",
    "- O número total de horas de teste não pode ser maior do que o máximo de horas de mão de obra de teste disponíveis.\n",
    "\n",
    "\n",
    "- O número de smartphones modelo tipo i a serem produzidos não pode ser maior do que o número máximo de smartphones modelo tipo i a serem vendidos neste mês, onde i pertence ao conjunto {Xiaomi, Iphone}."
   ]
  },
  {
   "cell_type": "markdown",
   "metadata": {},
   "source": [
    "### Organizando os Parâmetros do modelo matemático"
   ]
  },
  {
   "cell_type": "code",
   "execution_count": 3,
   "metadata": {},
   "outputs": [],
   "source": [
    "# Número máximo de smartphones para vender este mês\n",
    "A_Xiaomi = 600\n",
    "A_Iphone = 1200"
   ]
  },
  {
   "cell_type": "code",
   "execution_count": 4,
   "metadata": {},
   "outputs": [],
   "source": [
    "# Preço de venda de smartphones \n",
    "B_Xiaomi = 300 \n",
    "B_Iphone = 450 "
   ]
  },
  {
   "cell_type": "code",
   "execution_count": 5,
   "metadata": {},
   "outputs": [],
   "source": [
    "# Preço de custo das peças componentes para smartphones\n",
    "C_Xiaomi = 150\n",
    "C_Iphone = 225"
   ]
  },
  {
   "cell_type": "code",
   "execution_count": 6,
   "metadata": {},
   "outputs": [],
   "source": [
    "# Custo de mão de obra de montagem por hora de smartphones\n",
    "D_Xiaomi = 11\n",
    "D_Iphone = 11"
   ]
  },
  {
   "cell_type": "code",
   "execution_count": 7,
   "metadata": {},
   "outputs": [],
   "source": [
    "# Custo de mão de obra de teste por hora de smartphones \n",
    "E_Xiaomi = 15 \n",
    "E_Iphone = 15 "
   ]
  },
  {
   "cell_type": "code",
   "execution_count": 8,
   "metadata": {},
   "outputs": [],
   "source": [
    "# Número máximo de horas de trabalho de montagem\n",
    "F = 10000 "
   ]
  },
  {
   "cell_type": "code",
   "execution_count": 9,
   "metadata": {},
   "outputs": [],
   "source": [
    "# Número máximo de horas de trabalho de teste\n",
    "G = 3000 "
   ]
  },
  {
   "cell_type": "code",
   "execution_count": 10,
   "metadata": {},
   "outputs": [],
   "source": [
    "# Horas de montagem necessárias para construir cada modelo de smartphone\n",
    "Hfi_Xiaomi = 5\n",
    "Hfi_Iphone = 6"
   ]
  },
  {
   "cell_type": "code",
   "execution_count": 11,
   "metadata": {},
   "outputs": [],
   "source": [
    "# Horas de teste necessárias para testar cada modelo de smartphone\n",
    "Hgi_Xiaomi = 1 \n",
    "Hgi_Iphone = 2"
   ]
  },
  {
   "cell_type": "markdown",
   "metadata": {},
   "source": [
    "### Criando var para otimizar"
   ]
  },
  {
   "cell_type": "code",
   "execution_count": 12,
   "metadata": {},
   "outputs": [
    {
     "data": {
      "text/plain": [
       "MixProdutos:\n",
       "MAXIMIZE\n",
       "None\n",
       "VARIABLES"
      ]
     },
     "execution_count": 12,
     "metadata": {},
     "output_type": "execute_result"
    }
   ],
   "source": [
    "problema = LpProblem(\"MixProdutos\", LpMaximize)\n",
    "problema"
   ]
  },
  {
   "cell_type": "markdown",
   "metadata": {},
   "source": [
    "### Definindo var de tomada de decisão para cada modelo de smartphone"
   ]
  },
  {
   "cell_type": "code",
   "execution_count": 13,
   "metadata": {},
   "outputs": [],
   "source": [
    "# Define as variáveis\n",
    "x_Xiaomi = LpVariable(\"Unidades Lua1\", 0, None, LpInteger)\n",
    "x_Iphone = LpVariable(\"Unidades Lua2\", 0, None, LpInteger)"
   ]
  },
  {
   "cell_type": "code",
   "execution_count": 14,
   "metadata": {},
   "outputs": [
    {
     "name": "stdout",
     "output_type": "stream",
     "text": [
      "Unidades_Lua1\n",
      "Unidades_Lua2\n"
     ]
    }
   ],
   "source": [
    "# Print\n",
    "print(x_Xiaomi)\n",
    "print(x_Iphone)"
   ]
  },
  {
   "cell_type": "markdown",
   "metadata": {},
   "source": [
    "### Função Lucro total"
   ]
  },
  {
   "cell_type": "markdown",
   "metadata": {},
   "source": [
    "![title](imagens/formula.png)"
   ]
  },
  {
   "cell_type": "code",
   "execution_count": 15,
   "metadata": {},
   "outputs": [
    {
     "data": {
      "text/plain": [
       "300*Unidades_Lua1 + 450*Unidades_Lua2 + 0"
      ]
     },
     "execution_count": 15,
     "metadata": {},
     "output_type": "execute_result"
    }
   ],
   "source": [
    "# Faturamento\n",
    "faturamento = (x_Xiaomi * B_Xiaomi) + (x_Iphone * B_Iphone)\n",
    "faturamento"
   ]
  },
  {
   "cell_type": "code",
   "execution_count": 16,
   "metadata": {},
   "outputs": [
    {
     "data": {
      "text/plain": [
       "55*Unidades_Lua1 + 66*Unidades_Lua2 + 0"
      ]
     },
     "execution_count": 16,
     "metadata": {},
     "output_type": "execute_result"
    }
   ],
   "source": [
    "# Custo de Montagem\n",
    "custo_montagem = (x_Xiaomi * Hfi_Xiaomi * D_Xiaomi) + (x_Iphone * Hfi_Iphone * D_Iphone)\n",
    "custo_montagem"
   ]
  },
  {
   "cell_type": "code",
   "execution_count": 17,
   "metadata": {},
   "outputs": [
    {
     "data": {
      "text/plain": [
       "15*Unidades_Lua1 + 30*Unidades_Lua2 + 0"
      ]
     },
     "execution_count": 17,
     "metadata": {},
     "output_type": "execute_result"
    }
   ],
   "source": [
    "# Custo de Teste\n",
    "custo_teste = (x_Xiaomi * Hgi_Xiaomi * E_Xiaomi) + (x_Iphone * Hgi_Iphone * E_Iphone)\n",
    "custo_teste"
   ]
  },
  {
   "cell_type": "code",
   "execution_count": 18,
   "metadata": {},
   "outputs": [
    {
     "data": {
      "text/plain": [
       "150*Unidades_Lua1 + 225*Unidades_Lua2 + 0"
      ]
     },
     "execution_count": 18,
     "metadata": {},
     "output_type": "execute_result"
    }
   ],
   "source": [
    "# Custo de Componentes\n",
    "custo_componentes = (x_Xiaomi * C_Xiaomi) + (x_Iphone * C_Iphone) \n",
    "custo_componentes"
   ]
  },
  {
   "cell_type": "code",
   "execution_count": 19,
   "metadata": {},
   "outputs": [
    {
     "data": {
      "text/plain": [
       "MixProdutos:\n",
       "MAXIMIZE\n",
       "80*Unidades_Lua1 + 129*Unidades_Lua2 + 0\n",
       "VARIABLES\n",
       "0 <= Unidades_Lua1 Integer\n",
       "0 <= Unidades_Lua2 Integer"
      ]
     },
     "execution_count": 19,
     "metadata": {},
     "output_type": "execute_result"
    }
   ],
   "source": [
    "# Lucro = Faturamento - Custo de Montagem - Custo de Teste - Custo de Componentes\n",
    "problema += faturamento - custo_montagem - custo_teste - custo_componentes\n",
    "problema"
   ]
  },
  {
   "cell_type": "code",
   "execution_count": 20,
   "metadata": {},
   "outputs": [],
   "source": [
    "# Número máximo de horas de montagem\n",
    "problema += (x_Xiaomi * Hfi_Xiaomi) + (x_Iphone * Hfi_Iphone) <= F,\"Número Máximo de Horas de Montagem\""
   ]
  },
  {
   "cell_type": "code",
   "execution_count": 21,
   "metadata": {},
   "outputs": [],
   "source": [
    "# Número máximo de horas de teste\n",
    "problema += (x_Xiaomi * Hgi_Xiaomi) + (x_Iphone * Hgi_Iphone) <= G,\"Número Máximo de Horas de Teste\""
   ]
  },
  {
   "cell_type": "code",
   "execution_count": 22,
   "metadata": {},
   "outputs": [],
   "source": [
    "# Produção menor ou igual a demanda pelo modelo Lua1\n",
    "problema += x_Xiaomi <= A_Xiaomi,\"Produção menor ou igual a demanda pelo modelo Lua1\""
   ]
  },
  {
   "cell_type": "code",
   "execution_count": 23,
   "metadata": {},
   "outputs": [],
   "source": [
    "# Produção menor ou igual a demanda pelo modelo Lua2\n",
    "problema += x_Iphone <= A_Iphone,\"Produção menor ou igual a demanda pelo modelo Lua2\""
   ]
  },
  {
   "cell_type": "code",
   "execution_count": 29,
   "metadata": {},
   "outputs": [
    {
     "data": {
      "text/plain": [
       "MixProdutos:\n",
       "MAXIMIZE\n",
       "80*Unidades_Lua1 + 129*Unidades_Lua2 + 0\n",
       "SUBJECT TO\n",
       "Número_Máximo_de_Horas_de_Montagem: 5 Unidades_Lua1 + 6 Unidades_Lua2 <= 10000\n",
       "\n",
       "Número_Máximo_de_Horas_de_Teste: Unidades_Lua1 + 2 Unidades_Lua2 <= 3000\n",
       "\n",
       "Produção_menor_ou_igual_a_demanda_pelo_modelo_Lua1: Unidades_Lua1 <= 600\n",
       "\n",
       "Produção_menor_ou_igual_a_demanda_pelo_modelo_Lua2: Unidades_Lua2 <= 1200\n",
       "\n",
       "VARIABLES\n",
       "0 <= Unidades_Lua1 Integer\n",
       "0 <= Unidades_Lua2 Integer"
      ]
     },
     "execution_count": 29,
     "metadata": {},
     "output_type": "execute_result"
    }
   ],
   "source": [
    "problema"
   ]
  },
  {
   "cell_type": "markdown",
   "metadata": {},
   "source": [
    "### Usando Solve para resolver."
   ]
  },
  {
   "cell_type": "code",
   "execution_count": 25,
   "metadata": {},
   "outputs": [
    {
     "data": {
      "text/plain": [
       "1"
      ]
     },
     "execution_count": 25,
     "metadata": {},
     "output_type": "execute_result"
    }
   ],
   "source": [
    "# Otimização\n",
    "problema.solve()"
   ]
  },
  {
   "cell_type": "code",
   "execution_count": 26,
   "metadata": {},
   "outputs": [
    {
     "name": "stdout",
     "output_type": "stream",
     "text": [
      "Lucro Maximizado: 199600.0\n"
     ]
    }
   ],
   "source": [
    "# Lucro Maximizado\n",
    "print(\"Lucro Maximizado:\", value(problema.objective))"
   ]
  },
  {
   "cell_type": "code",
   "execution_count": 27,
   "metadata": {},
   "outputs": [
    {
     "name": "stdout",
     "output_type": "stream",
     "text": [
      "Número de Unidades do Modelo Lua 1 a Produzir: 560.0\n"
     ]
    }
   ],
   "source": [
    "# Número de Unidades do Modelo Lua 1 a Produzir\n",
    "print(\"Número de Unidades do Modelo Lua 1 a Produzir:\", problema.variables()[0].varValue)"
   ]
  },
  {
   "cell_type": "code",
   "execution_count": 28,
   "metadata": {},
   "outputs": [
    {
     "name": "stdout",
     "output_type": "stream",
     "text": [
      "Número de Unidades do Modelo Lua 2 a Produzir: 1200.0\n"
     ]
    }
   ],
   "source": [
    "# Número de Unidades do Modelo Lua 1 a Produzir\n",
    "print(\"Número de Unidades do Modelo Lua 2 a Produzir:\", problema.variables()[1].varValue)"
   ]
  },
  {
   "cell_type": "markdown",
   "metadata": {},
   "source": [
    "A empresa X Tech deve produzir 560 unidades do tipo de smartphone Xiaomi e 1200 do tipo Iphone para atingir o lucro máximo de R$199.600."
   ]
  }
 ],
 "metadata": {
  "kernelspec": {
   "display_name": "Python 3",
   "language": "python",
   "name": "python3"
  },
  "language_info": {
   "codemirror_mode": {
    "name": "ipython",
    "version": 3
   },
   "file_extension": ".py",
   "mimetype": "text/x-python",
   "name": "python",
   "nbconvert_exporter": "python",
   "pygments_lexer": "ipython3",
   "version": "3.7.3"
  }
 },
 "nbformat": 4,
 "nbformat_minor": 2
}
